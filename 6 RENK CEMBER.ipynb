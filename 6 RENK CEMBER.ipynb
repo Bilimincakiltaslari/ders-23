{
 "cells": [
  {
   "cell_type": "code",
   "execution_count": 1,
   "metadata": {},
   "outputs": [],
   "source": [
    "from turtle import * \n",
    "speed(0)\n",
    "for i in range(130,4,-25):\n",
    "    if (i-5)/25==5:\n",
    "        renk=\"red\"\n",
    "    elif (i-5)/25==4:\n",
    "        renk=\"green\"\n",
    "    elif (i-5)/25==3:\n",
    "        renk=\"black\"\n",
    "    elif (i-5)/25==2:\n",
    "        renk=\"indigo\"\n",
    "    elif (i-5)/25==1:\n",
    "        renk=\"brown\"    \n",
    "    else:\n",
    "        renk=\"yellow\"\n",
    "    color(\"blue\",renk)\n",
    "    begin_fill()\n",
    "    circle(i)\n",
    "    circle(-i)\n",
    "    end_fill()\n",
    "mainloop()"
   ]
  },
  {
   "cell_type": "code",
   "execution_count": null,
   "metadata": {},
   "outputs": [],
   "source": []
  }
 ],
 "metadata": {
  "kernelspec": {
   "display_name": "Python 3",
   "language": "python",
   "name": "python3"
  },
  "language_info": {
   "codemirror_mode": {
    "name": "ipython",
    "version": 3
   },
   "file_extension": ".py",
   "mimetype": "text/x-python",
   "name": "python",
   "nbconvert_exporter": "python",
   "pygments_lexer": "ipython3",
   "version": "3.7.3"
  }
 },
 "nbformat": 4,
 "nbformat_minor": 2
}
